{
  "nbformat": 4,
  "nbformat_minor": 0,
  "metadata": {
    "colab": {
      "provenance": [],
      "authorship_tag": "ABX9TyPa+ghONNv2K0aIl4hUWfSK",
      "include_colab_link": true
    },
    "kernelspec": {
      "name": "python3",
      "display_name": "Python 3"
    },
    "language_info": {
      "name": "python"
    }
  },
  "cells": [
    {
      "cell_type": "markdown",
      "metadata": {
        "id": "view-in-github",
        "colab_type": "text"
      },
      "source": [
        "<a href=\"https://colab.research.google.com/github/Himaja2304/AL-CASE-STUDY/blob/main/ALPHABETA.ipynb\" target=\"_parent\"><img src=\"https://colab.research.google.com/assets/colab-badge.svg\" alt=\"Open In Colab\"/></a>"
      ]
    },
    {
      "cell_type": "code",
      "execution_count": 1,
      "metadata": {
        "colab": {
          "base_uri": "https://localhost:8080/"
        },
        "id": "0B1-RcfaGjAM",
        "outputId": "9897c43c-4c93-4ca6-b746-b1f7cbb09e95"
      },
      "outputs": [
        {
          "output_type": "stream",
          "name": "stdout",
          "text": [
            "\n",
            "🕵️ Sherlock's Best Move: Sherlock Investigates (Score: -30)\n"
          ]
        }
      ],
      "source": [
        "import random\n",
        "\n",
        "class AdversarialDetective:\n",
        "    def __init__(self):\n",
        "        self.actions = [\"Analyze Clue\", \"Interrogate Suspect\", \"Follow Lead\", \"Solve Puzzle\"]\n",
        "        self.rival_actions = [\"Fake Evidence\", \"Slow Investigation\", \"Divert Suspect\", \"Delay Clue\"]\n",
        "        self.game_tree = self.build_game_tree()\n",
        "\n",
        "    def build_game_tree(self):\n",
        "        \"\"\"Creates a simulated game tree for Sherlock vs. Rival detectives.\"\"\"\n",
        "        return {\n",
        "            \"Start\": [(\"Sherlock Investigates\", \"Rival Moves\")],\n",
        "            \"Sherlock Investigates\": [(\"Solve Puzzle\", \"Fake Evidence\"), (\"Follow Lead\", \"Divert Suspect\")],\n",
        "            \"Rival Moves\": [(\"Delay Clue\", \"Sherlock Reacts\"), (\"Slow Investigation\", \"Sherlock Adapts\")],\n",
        "            \"Solve Puzzle\": [(\"Case Solved\", \"Rival Falls Behind\")],\n",
        "            \"Follow Lead\": [(\"New Clue\", \"Rival Catches Up\")],\n",
        "            \"Fake Evidence\": [(\"Mislead Sherlock\", \"Sherlock Counters\")],\n",
        "            \"Divert Suspect\": [(\"Wrong Arrest\", \"Investigation Setback\")],\n",
        "            \"Sherlock Reacts\": [(\"Recover Clue\", \"Regain Lead\")],\n",
        "            \"Sherlock Adapts\": [(\"Find Alternative\", \"Avoid Delay\")],\n",
        "            \"Case Solved\": [],\n",
        "            \"Rival Falls Behind\": [],\n",
        "        }\n",
        "\n",
        "    def minimax(self, node, depth, is_maximizing, alpha, beta):\n",
        "        \"\"\"Minimax with Alpha-Beta Pruning for strategic decision-making.\"\"\"\n",
        "        if node not in self.game_tree or depth == 0:\n",
        "            return self.evaluate(node)  # Evaluate the outcome of this path\n",
        "\n",
        "        if is_maximizing:  # Sherlock's turn\n",
        "            max_eval = float(\"-inf\")\n",
        "            for child in self.game_tree[node]:\n",
        "                eval_score = self.minimax(child[0], depth - 1, False, alpha, beta)\n",
        "                max_eval = max(max_eval, eval_score)\n",
        "                alpha = max(alpha, eval_score)\n",
        "                if beta <= alpha:  # Alpha-beta pruning\n",
        "                    break\n",
        "            return max_eval\n",
        "        else:  # Rival Detective's turn\n",
        "            min_eval = float(\"inf\")\n",
        "            for child in self.game_tree[node]:\n",
        "                eval_score = self.minimax(child[1], depth - 1, True, alpha, beta)\n",
        "                min_eval = min(min_eval, eval_score)\n",
        "                beta = min(beta, eval_score)\n",
        "                if beta <= alpha:  # Alpha-beta pruning\n",
        "                    break\n",
        "            return min_eval\n",
        "\n",
        "    def evaluate(self, node):\n",
        "        \"\"\"Assigns a heuristic score to investigation states.\"\"\"\n",
        "        scores = {\n",
        "            \"Case Solved\": 100, \"Sherlock Reacts\": 50, \"Sherlock Adapts\": 40,\n",
        "            \"Rival Falls Behind\": 30, \"Regain Lead\": 25, \"Recover Clue\": 20,\n",
        "            \"Avoid Delay\": 15, \"Find Alternative\": 10, \"New Clue\": 5,\n",
        "            \"Rival Catches Up\": -10, \"Mislead Sherlock\": -20, \"Wrong Arrest\": -30,\n",
        "            \"Investigation Setback\": -40, \"Slow Investigation\": -50, \"Fake Evidence\": -60,\n",
        "            \"Delay Clue\": -70, \"Divert Suspect\": -80\n",
        "        }\n",
        "        return scores.get(node, 0)  # Default to 0 if node isn't explicitly scored\n",
        "\n",
        "    def best_strategy(self):\n",
        "        \"\"\"Finds the best initial move using Minimax with Alpha-Beta Pruning.\"\"\"\n",
        "        best_move = None\n",
        "        best_value = float(\"-inf\")\n",
        "        alpha, beta = float(\"-inf\"), float(\"inf\")\n",
        "\n",
        "        for move in self.game_tree[\"Start\"]:\n",
        "            eval_score = self.minimax(move[0], depth=3, is_maximizing=False, alpha=alpha, beta=beta)\n",
        "            if eval_score > best_value:\n",
        "                best_value = eval_score\n",
        "                best_move = move[0]\n",
        "\n",
        "        return best_move, best_value\n",
        "\n",
        "# Running Sherlock’s Strategy Decision\n",
        "sherlock_ai = AdversarialDetective()\n",
        "best_move, move_score = sherlock_ai.best_strategy()\n",
        "\n",
        "# Output Results\n",
        "print(f\"\\n🕵️ Sherlock's Best Move: {best_move} (Score: {move_score})\")\n"
      ]
    }
  ]
}