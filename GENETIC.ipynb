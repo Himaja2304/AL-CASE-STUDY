{
  "nbformat": 4,
  "nbformat_minor": 0,
  "metadata": {
    "colab": {
      "provenance": [],
      "authorship_tag": "ABX9TyNcS3ZfUxfdmuPBCgx046bE",
      "include_colab_link": true
    },
    "kernelspec": {
      "name": "python3",
      "display_name": "Python 3"
    },
    "language_info": {
      "name": "python"
    }
  },
  "cells": [
    {
      "cell_type": "markdown",
      "metadata": {
        "id": "view-in-github",
        "colab_type": "text"
      },
      "source": [
        "<a href=\"https://colab.research.google.com/github/Himaja2304/AL-CASE-STUDY/blob/main/GENETIC.ipynb\" target=\"_parent\"><img src=\"https://colab.research.google.com/assets/colab-badge.svg\" alt=\"Open In Colab\"/></a>"
      ]
    },
    {
      "cell_type": "code",
      "execution_count": 1,
      "metadata": {
        "colab": {
          "base_uri": "https://localhost:8080/"
        },
        "id": "J9Sz2iQfGBf6",
        "outputId": "1533a6eb-125b-487d-d98a-4808b7a92f7b"
      },
      "outputs": [
        {
          "output_type": "stream",
          "name": "stdout",
          "text": [
            "\n",
            "🔍 Generation 1\n",
            "Best Strategy (Gen 1): ['Interrogate Suspect', 'Solve Puzzle', 'Solve Puzzle', 'Solve Puzzle', 'Solve Puzzle'] with score 34\n",
            "\n",
            "🕵️ Sherlock's optimized investigation strategy: Interrogate Suspect → Solve Puzzle → Solve Puzzle → Solve Puzzle → Solve Puzzle\n"
          ]
        }
      ],
      "source": [
        "import random\n",
        "\n",
        "class SherlockGeneticAI:\n",
        "    def __init__(self, population_size, mutation_rate, max_generations):\n",
        "        self.population_size = population_size  # Number of strategies in each generation\n",
        "        self.mutation_rate = mutation_rate  # Probability of mutation\n",
        "        self.max_generations = max_generations  # Max evolution cycles\n",
        "        self.possible_actions = [\"Analyze Clue\", \"Guess Letter\", \"Interrogate Suspect\", \"Follow Lead\", \"Solve Puzzle\"]\n",
        "\n",
        "    def generate_random_strategy(self):\n",
        "        \"\"\"Creates a random strategy sequence for investigation\"\"\"\n",
        "        return [random.choice(self.possible_actions) for _ in range(5)]  # 5-step strategy\n",
        "\n",
        "    def fitness(self, strategy):\n",
        "        \"\"\"Evaluates strategy effectiveness (higher is better)\"\"\"\n",
        "        score = 0\n",
        "        for action in strategy:\n",
        "            if action == \"Analyze Clue\":\n",
        "                score += 5  # Better deduction\n",
        "            elif action == \"Guess Letter\":\n",
        "                score += 2  # Random guessing has limited benefit\n",
        "            elif action == \"Interrogate Suspect\":\n",
        "                score += 6  # Directly links to suspects\n",
        "            elif action == \"Follow Lead\":\n",
        "                score += 4  # Helps in progressing investigation\n",
        "            elif action == \"Solve Puzzle\":\n",
        "                score += 7  # Crucial for finding new clues\n",
        "        return score\n",
        "\n",
        "    def mutate(self, strategy):\n",
        "        \"\"\"Mutates a strategy randomly\"\"\"\n",
        "        if random.random() < self.mutation_rate:\n",
        "            index = random.randint(0, len(strategy) - 1)\n",
        "            strategy[index] = random.choice(self.possible_actions)  # Random action replacement\n",
        "        return strategy\n",
        "\n",
        "    def crossover(self, parent1, parent2):\n",
        "        \"\"\"Combines two strategies (parents) to create a child strategy\"\"\"\n",
        "        split = random.randint(1, len(parent1) - 1)\n",
        "        return parent1[:split] + parent2[split:]\n",
        "\n",
        "    def evolve(self):\n",
        "        \"\"\"Runs the genetic algorithm to optimize Sherlock's investigation strategy\"\"\"\n",
        "        population = [self.generate_random_strategy() for _ in range(self.population_size)]\n",
        "\n",
        "        for generation in range(self.max_generations):\n",
        "            print(f\"\\n🔍 Generation {generation + 1}\")\n",
        "\n",
        "            # Evaluate fitness of all strategies\n",
        "            scored_population = [(strategy, self.fitness(strategy)) for strategy in population]\n",
        "            scored_population.sort(key=lambda x: x[1], reverse=True)  # Higher fitness is better\n",
        "\n",
        "            print(f\"Best Strategy (Gen {generation + 1}): {scored_population[0][0]} with score {scored_population[0][1]}\")\n",
        "\n",
        "            if scored_population[0][1] >= 30:  # Found an optimal strategy\n",
        "                return scored_population[0][0]\n",
        "\n",
        "            # Select top half strategies for crossover\n",
        "            selected_parents = [strategy for strategy, _ in scored_population[:len(population) // 2]]\n",
        "\n",
        "            # Generate next generation with crossover and mutation\n",
        "            next_generation = []\n",
        "            while len(next_generation) < self.population_size:\n",
        "                parent1, parent2 = random.sample(selected_parents, 2)\n",
        "                child = self.crossover(parent1, parent2)\n",
        "                child = self.mutate(child)\n",
        "                next_generation.append(child)\n",
        "\n",
        "            population = next_generation  # Update population for next generation\n",
        "\n",
        "        # Return best strategy from final generation\n",
        "        return max(population, key=self.fitness)\n",
        "\n",
        "# Running the Genetic Algorithm to Evolve Sherlock's Strategy\n",
        "sherlock_ai = SherlockGeneticAI(population_size=10, mutation_rate=0.2, max_generations=20)\n",
        "optimal_strategy = sherlock_ai.evolve()\n",
        "\n",
        "# Output Results\n",
        "print(\"\\n🕵️ Sherlock's optimized investigation strategy:\", \" → \".join(optimal_strategy))\n"
      ]
    }
  ]
}